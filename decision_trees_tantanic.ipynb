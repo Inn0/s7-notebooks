{
 "cells": [
  {
   "cell_type": "markdown",
   "metadata": {},
   "source": [
    "\n",
    "# Who Survived the Titanic Disaster?"
   ]
  },
  {
   "cell_type": "markdown",
   "metadata": {},
   "source": [
    "## 1. Introduction"
   ]
  },
  {
   "cell_type": "markdown",
   "metadata": {},
   "source": [
    "In this titanic example we will use decision trees. The main advantage of this model is that humans can easily \n",
    "understand and reproduce the sequence of decisions taken to predict the target class of a new data point.\n",
    "\n",
    "This is very important for tasks such as medical diagnosis or credit approval, where we want to show a reason for the \n",
    "decision, rather than just saying this is what the training data suggests (which is, by definition, what every supervised \n",
    "learning method does).\n",
    "\n",
    "The problem we would like to solve is to determine if a Titanic's passenger would have survived, given age, passenger class, \n",
    "and sex. Why these features? \n",
    "\n",
    "Answer: Very specific features (name is an extreme case) could result in overfitting (consider a tree that just asks if the name is X, she survived). Features for which there are a small number of instances with each value present a similar problem. They might not be useful for generalization. We will use class, age, and sex because a priori, we expect them to have possibly influenced the passenger's survival."
   ]
  },
  {
   "cell_type": "markdown",
   "metadata": {},
   "source": [
    "Each instance in the dataset has the following form:\n",
    "\n",
    "     \"1\",\"1st\",1,\"Allen, Miss Elisabeth Walton\",29.0000,\"Southampton\",\"St Louis, MO\",\"B-5\",\"24160 L221\",\"2\",\"female\"\n",
    "     \n",
    "Note that the raw data consists largely of strings. To apply machine learning algo's these strings have to be converted to numerical data first (at least the columns that are of interest)!"
   ]
  },
  {
   "cell_type": "markdown",
   "metadata": {},
   "source": [
    "## 2. Prepare Dataset with Pandas "
   ]
  },
  {
   "cell_type": "markdown",
   "metadata": {},
   "source": [
    "Pandas is a Python module that works with the so-called dataframe concept (rows are observations, columns refer to the features). A dataframe is essentially a two-dimensional labeled data structure where\n",
    "each column represent a feature and each row represents an observation.\n",
    "\n",
    "More details, see: https://www.kaggle.com/c/titanic/details/getting-started-with-python-ii "
   ]
  },
  {
   "cell_type": "markdown",
   "metadata": {},
   "source": [
    "### 2.1. Load Dataset"
   ]
  },
  {
   "cell_type": "markdown",
   "metadata": {},
   "source": [
    "Download the Titanic dataset (csv file) from Canvas, read it with Pandas into a dataframe. "
   ]
  },
  {
   "cell_type": "code",
   "execution_count": 2,
   "metadata": {},
   "outputs": [
    {
     "name": "stdout",
     "output_type": "stream",
     "text": [
      "numpy version: 1.21.5\n",
      "matplotlib version: 1.4.2\n"
     ]
    },
    {
     "data": {
      "text/plain": "   passengers pclass  survived  \\\n0           1    1st         1   \n1           2    1st         0   \n2           3    1st         0   \n3           4    1st         0   \n4           5    1st         1   \n5           6    1st         1   \n6           7    1st         1   \n7           8    1st         0   \n8           9    1st         1   \n9          10    1st         0   \n\n                                              name      age     embarked  \\\n0                     Allen, Miss Elisabeth Walton  29.0000  Southampton   \n1                      Allison, Miss Helen Loraine   2.0000  Southampton   \n2              Allison, Mr Hudson Joshua Creighton  30.0000  Southampton   \n3  Allison, Mrs Hudson J.C. (Bessie Waldo Daniels)  25.0000  Southampton   \n4                    Allison, Master Hudson Trevor   0.9167  Southampton   \n5                               Anderson, Mr Harry  47.0000  Southampton   \n6                 Andrews, Miss Kornelia Theodosia  63.0000  Southampton   \n7                           Andrews, Mr Thomas, jr  39.0000  Southampton   \n8     Appleton, Mrs Edward Dale (Charlotte Lamson)  58.0000  Southampton   \n9                           Artagaveytia, Mr Ramon  71.0000    Cherbourg   \n\n                         home/dest   room      ticket  boat     sex  \n0                     St Louis, MO    B-5  24160 L221     2  female  \n1  Montreal, PQ / Chesterville, ON    C26         NaN   NaN  female  \n2  Montreal, PQ / Chesterville, ON    C26         NaN  -135    male  \n3  Montreal, PQ / Chesterville, ON    C26         NaN   NaN  female  \n4  Montreal, PQ / Chesterville, ON    C22         NaN    11    male  \n5                     New York, NY   E-12         NaN     3    male  \n6                       Hudson, NY    D-7   13502 L77    10  female  \n7                      Belfast, NI   A-36         NaN   NaN    male  \n8              Bayside, Queens, NY  C-101         NaN     2  female  \n9              Montevideo, Uruguay    NaN         NaN   -22    male  ",
      "text/html": "<div>\n<style scoped>\n    .dataframe tbody tr th:only-of-type {\n        vertical-align: middle;\n    }\n\n    .dataframe tbody tr th {\n        vertical-align: top;\n    }\n\n    .dataframe thead th {\n        text-align: right;\n    }\n</style>\n<table border=\"1\" class=\"dataframe\">\n  <thead>\n    <tr style=\"text-align: right;\">\n      <th></th>\n      <th>passengers</th>\n      <th>pclass</th>\n      <th>survived</th>\n      <th>name</th>\n      <th>age</th>\n      <th>embarked</th>\n      <th>home/dest</th>\n      <th>room</th>\n      <th>ticket</th>\n      <th>boat</th>\n      <th>sex</th>\n    </tr>\n  </thead>\n  <tbody>\n    <tr>\n      <th>0</th>\n      <td>1</td>\n      <td>1st</td>\n      <td>1</td>\n      <td>Allen, Miss Elisabeth Walton</td>\n      <td>29.0000</td>\n      <td>Southampton</td>\n      <td>St Louis, MO</td>\n      <td>B-5</td>\n      <td>24160 L221</td>\n      <td>2</td>\n      <td>female</td>\n    </tr>\n    <tr>\n      <th>1</th>\n      <td>2</td>\n      <td>1st</td>\n      <td>0</td>\n      <td>Allison, Miss Helen Loraine</td>\n      <td>2.0000</td>\n      <td>Southampton</td>\n      <td>Montreal, PQ / Chesterville, ON</td>\n      <td>C26</td>\n      <td>NaN</td>\n      <td>NaN</td>\n      <td>female</td>\n    </tr>\n    <tr>\n      <th>2</th>\n      <td>3</td>\n      <td>1st</td>\n      <td>0</td>\n      <td>Allison, Mr Hudson Joshua Creighton</td>\n      <td>30.0000</td>\n      <td>Southampton</td>\n      <td>Montreal, PQ / Chesterville, ON</td>\n      <td>C26</td>\n      <td>NaN</td>\n      <td>-135</td>\n      <td>male</td>\n    </tr>\n    <tr>\n      <th>3</th>\n      <td>4</td>\n      <td>1st</td>\n      <td>0</td>\n      <td>Allison, Mrs Hudson J.C. (Bessie Waldo Daniels)</td>\n      <td>25.0000</td>\n      <td>Southampton</td>\n      <td>Montreal, PQ / Chesterville, ON</td>\n      <td>C26</td>\n      <td>NaN</td>\n      <td>NaN</td>\n      <td>female</td>\n    </tr>\n    <tr>\n      <th>4</th>\n      <td>5</td>\n      <td>1st</td>\n      <td>1</td>\n      <td>Allison, Master Hudson Trevor</td>\n      <td>0.9167</td>\n      <td>Southampton</td>\n      <td>Montreal, PQ / Chesterville, ON</td>\n      <td>C22</td>\n      <td>NaN</td>\n      <td>11</td>\n      <td>male</td>\n    </tr>\n    <tr>\n      <th>5</th>\n      <td>6</td>\n      <td>1st</td>\n      <td>1</td>\n      <td>Anderson, Mr Harry</td>\n      <td>47.0000</td>\n      <td>Southampton</td>\n      <td>New York, NY</td>\n      <td>E-12</td>\n      <td>NaN</td>\n      <td>3</td>\n      <td>male</td>\n    </tr>\n    <tr>\n      <th>6</th>\n      <td>7</td>\n      <td>1st</td>\n      <td>1</td>\n      <td>Andrews, Miss Kornelia Theodosia</td>\n      <td>63.0000</td>\n      <td>Southampton</td>\n      <td>Hudson, NY</td>\n      <td>D-7</td>\n      <td>13502 L77</td>\n      <td>10</td>\n      <td>female</td>\n    </tr>\n    <tr>\n      <th>7</th>\n      <td>8</td>\n      <td>1st</td>\n      <td>0</td>\n      <td>Andrews, Mr Thomas, jr</td>\n      <td>39.0000</td>\n      <td>Southampton</td>\n      <td>Belfast, NI</td>\n      <td>A-36</td>\n      <td>NaN</td>\n      <td>NaN</td>\n      <td>male</td>\n    </tr>\n    <tr>\n      <th>8</th>\n      <td>9</td>\n      <td>1st</td>\n      <td>1</td>\n      <td>Appleton, Mrs Edward Dale (Charlotte Lamson)</td>\n      <td>58.0000</td>\n      <td>Southampton</td>\n      <td>Bayside, Queens, NY</td>\n      <td>C-101</td>\n      <td>NaN</td>\n      <td>2</td>\n      <td>female</td>\n    </tr>\n    <tr>\n      <th>9</th>\n      <td>10</td>\n      <td>1st</td>\n      <td>0</td>\n      <td>Artagaveytia, Mr Ramon</td>\n      <td>71.0000</td>\n      <td>Cherbourg</td>\n      <td>Montevideo, Uruguay</td>\n      <td>NaN</td>\n      <td>NaN</td>\n      <td>-22</td>\n      <td>male</td>\n    </tr>\n  </tbody>\n</table>\n</div>"
     },
     "execution_count": 2,
     "metadata": {},
     "output_type": "execute_result"
    }
   ],
   "source": [
    "import pandas as pd\n",
    "import numpy as np\n",
    "\n",
    "print('numpy version:', np.__version__)\n",
    "print('matplotlib version:', pd.__version__)\n",
    "\n",
    "#Show the first 10 rows.\n",
    "df_titanic = pd.read_csv(\"Titanic.csv\")\n",
    "df_titanic.columns =['passengers','pclass','survived','name','age','embarked','home/dest','room','ticket','boat','sex']\n",
    "df_titanic.head(10)"
   ]
  },
  {
   "cell_type": "markdown",
   "metadata": {},
   "source": [
    "Also show the 10 last rows. What is the problem in the last couple of rows?\n"
   ]
  },
  {
   "cell_type": "code",
   "execution_count": 3,
   "metadata": {},
   "outputs": [
    {
     "data": {
      "text/plain": "      passengers pclass  survived                    name  age embarked  \\\n1303        1304    3rd         0      Yasbeck, Mr Antoni  NaN      NaN   \n1304        1305    3rd         1     Yasbeck, Mrs Antoni  NaN      NaN   \n1305        1306    3rd         0      Youssef, Mr Gerios  NaN      NaN   \n1306        1307    3rd         0     Zabour, Miss Hileni  NaN      NaN   \n1307        1308    3rd         0     Zabour, Miss Tamini  NaN      NaN   \n1308        1309    3rd         0      Zakarian, Mr Artun  NaN      NaN   \n1309        1310    3rd         0  Zakarian, Mr Maprieder  NaN      NaN   \n1310        1311    3rd         0         Zenn, Mr Philip  NaN      NaN   \n1311        1312    3rd         0           Zievens, Rene  NaN      NaN   \n1312        1313    3rd         0          Zimmerman, Leo  NaN      NaN   \n\n     home/dest room ticket boat     sex  \n1303       NaN  NaN    NaN  NaN    male  \n1304       NaN  NaN    NaN  NaN  female  \n1305       NaN  NaN    NaN  NaN    male  \n1306       NaN  NaN    NaN  NaN  female  \n1307       NaN  NaN    NaN  NaN  female  \n1308       NaN  NaN    NaN  NaN    male  \n1309       NaN  NaN    NaN  NaN    male  \n1310       NaN  NaN    NaN  NaN    male  \n1311       NaN  NaN    NaN  NaN  female  \n1312       NaN  NaN    NaN  NaN    male  ",
      "text/html": "<div>\n<style scoped>\n    .dataframe tbody tr th:only-of-type {\n        vertical-align: middle;\n    }\n\n    .dataframe tbody tr th {\n        vertical-align: top;\n    }\n\n    .dataframe thead th {\n        text-align: right;\n    }\n</style>\n<table border=\"1\" class=\"dataframe\">\n  <thead>\n    <tr style=\"text-align: right;\">\n      <th></th>\n      <th>passengers</th>\n      <th>pclass</th>\n      <th>survived</th>\n      <th>name</th>\n      <th>age</th>\n      <th>embarked</th>\n      <th>home/dest</th>\n      <th>room</th>\n      <th>ticket</th>\n      <th>boat</th>\n      <th>sex</th>\n    </tr>\n  </thead>\n  <tbody>\n    <tr>\n      <th>1303</th>\n      <td>1304</td>\n      <td>3rd</td>\n      <td>0</td>\n      <td>Yasbeck, Mr Antoni</td>\n      <td>NaN</td>\n      <td>NaN</td>\n      <td>NaN</td>\n      <td>NaN</td>\n      <td>NaN</td>\n      <td>NaN</td>\n      <td>male</td>\n    </tr>\n    <tr>\n      <th>1304</th>\n      <td>1305</td>\n      <td>3rd</td>\n      <td>1</td>\n      <td>Yasbeck, Mrs Antoni</td>\n      <td>NaN</td>\n      <td>NaN</td>\n      <td>NaN</td>\n      <td>NaN</td>\n      <td>NaN</td>\n      <td>NaN</td>\n      <td>female</td>\n    </tr>\n    <tr>\n      <th>1305</th>\n      <td>1306</td>\n      <td>3rd</td>\n      <td>0</td>\n      <td>Youssef, Mr Gerios</td>\n      <td>NaN</td>\n      <td>NaN</td>\n      <td>NaN</td>\n      <td>NaN</td>\n      <td>NaN</td>\n      <td>NaN</td>\n      <td>male</td>\n    </tr>\n    <tr>\n      <th>1306</th>\n      <td>1307</td>\n      <td>3rd</td>\n      <td>0</td>\n      <td>Zabour, Miss Hileni</td>\n      <td>NaN</td>\n      <td>NaN</td>\n      <td>NaN</td>\n      <td>NaN</td>\n      <td>NaN</td>\n      <td>NaN</td>\n      <td>female</td>\n    </tr>\n    <tr>\n      <th>1307</th>\n      <td>1308</td>\n      <td>3rd</td>\n      <td>0</td>\n      <td>Zabour, Miss Tamini</td>\n      <td>NaN</td>\n      <td>NaN</td>\n      <td>NaN</td>\n      <td>NaN</td>\n      <td>NaN</td>\n      <td>NaN</td>\n      <td>female</td>\n    </tr>\n    <tr>\n      <th>1308</th>\n      <td>1309</td>\n      <td>3rd</td>\n      <td>0</td>\n      <td>Zakarian, Mr Artun</td>\n      <td>NaN</td>\n      <td>NaN</td>\n      <td>NaN</td>\n      <td>NaN</td>\n      <td>NaN</td>\n      <td>NaN</td>\n      <td>male</td>\n    </tr>\n    <tr>\n      <th>1309</th>\n      <td>1310</td>\n      <td>3rd</td>\n      <td>0</td>\n      <td>Zakarian, Mr Maprieder</td>\n      <td>NaN</td>\n      <td>NaN</td>\n      <td>NaN</td>\n      <td>NaN</td>\n      <td>NaN</td>\n      <td>NaN</td>\n      <td>male</td>\n    </tr>\n    <tr>\n      <th>1310</th>\n      <td>1311</td>\n      <td>3rd</td>\n      <td>0</td>\n      <td>Zenn, Mr Philip</td>\n      <td>NaN</td>\n      <td>NaN</td>\n      <td>NaN</td>\n      <td>NaN</td>\n      <td>NaN</td>\n      <td>NaN</td>\n      <td>male</td>\n    </tr>\n    <tr>\n      <th>1311</th>\n      <td>1312</td>\n      <td>3rd</td>\n      <td>0</td>\n      <td>Zievens, Rene</td>\n      <td>NaN</td>\n      <td>NaN</td>\n      <td>NaN</td>\n      <td>NaN</td>\n      <td>NaN</td>\n      <td>NaN</td>\n      <td>female</td>\n    </tr>\n    <tr>\n      <th>1312</th>\n      <td>1313</td>\n      <td>3rd</td>\n      <td>0</td>\n      <td>Zimmerman, Leo</td>\n      <td>NaN</td>\n      <td>NaN</td>\n      <td>NaN</td>\n      <td>NaN</td>\n      <td>NaN</td>\n      <td>NaN</td>\n      <td>male</td>\n    </tr>\n  </tbody>\n</table>\n</div>"
     },
     "execution_count": 3,
     "metadata": {},
     "output_type": "execute_result"
    }
   ],
   "source": [
    "## Your code ...\n",
    "df_titanic.tail(10)"
   ]
  },
  {
   "cell_type": "markdown",
   "metadata": {},
   "source": [
    "### 2.2. Investigate Dataset"
   ]
  },
  {
   "cell_type": "markdown",
   "metadata": {},
   "source": [
    "How does Pandas interpret the data? The following 3 commands can be used to investigate the data. Describe in your own words what the command does."
   ]
  },
  {
   "cell_type": "code",
   "execution_count": 4,
   "metadata": {},
   "outputs": [
    {
     "data": {
      "text/plain": "passengers      int64\npclass         object\nsurvived        int64\nname           object\nage           float64\nembarked       object\nhome/dest      object\nroom           object\nticket         object\nboat           object\nsex            object\ndtype: object"
     },
     "execution_count": 4,
     "metadata": {},
     "output_type": "execute_result"
    }
   ],
   "source": [
    "df_titanic.dtypes\n"
   ]
  },
  {
   "cell_type": "code",
   "execution_count": 5,
   "metadata": {},
   "outputs": [
    {
     "name": "stdout",
     "output_type": "stream",
     "text": [
      "<class 'pandas.core.frame.DataFrame'>\n",
      "RangeIndex: 1313 entries, 0 to 1312\n",
      "Data columns (total 11 columns):\n",
      " #   Column      Non-Null Count  Dtype  \n",
      "---  ------      --------------  -----  \n",
      " 0   passengers  1313 non-null   int64  \n",
      " 1   pclass      1313 non-null   object \n",
      " 2   survived    1313 non-null   int64  \n",
      " 3   name        1313 non-null   object \n",
      " 4   age         633 non-null    float64\n",
      " 5   embarked    821 non-null    object \n",
      " 6   home/dest   754 non-null    object \n",
      " 7   room        77 non-null     object \n",
      " 8   ticket      69 non-null     object \n",
      " 9   boat        347 non-null    object \n",
      " 10  sex         1313 non-null   object \n",
      "dtypes: float64(1), int64(2), object(8)\n",
      "memory usage: 113.0+ KB\n"
     ]
    }
   ],
   "source": [
    "df_titanic.info()\n"
   ]
  },
  {
   "cell_type": "code",
   "execution_count": 6,
   "metadata": {},
   "outputs": [
    {
     "data": {
      "text/plain": "        passengers     survived         age\ncount  1313.000000  1313.000000  633.000000\nmean    657.000000     0.341965   31.194181\nstd     379.174762     0.474549   14.747525\nmin       1.000000     0.000000    0.166700\n25%     329.000000     0.000000   21.000000\n50%     657.000000     0.000000   30.000000\n75%     985.000000     1.000000   41.000000\nmax    1313.000000     1.000000   71.000000",
      "text/html": "<div>\n<style scoped>\n    .dataframe tbody tr th:only-of-type {\n        vertical-align: middle;\n    }\n\n    .dataframe tbody tr th {\n        vertical-align: top;\n    }\n\n    .dataframe thead th {\n        text-align: right;\n    }\n</style>\n<table border=\"1\" class=\"dataframe\">\n  <thead>\n    <tr style=\"text-align: right;\">\n      <th></th>\n      <th>passengers</th>\n      <th>survived</th>\n      <th>age</th>\n    </tr>\n  </thead>\n  <tbody>\n    <tr>\n      <th>count</th>\n      <td>1313.000000</td>\n      <td>1313.000000</td>\n      <td>633.000000</td>\n    </tr>\n    <tr>\n      <th>mean</th>\n      <td>657.000000</td>\n      <td>0.341965</td>\n      <td>31.194181</td>\n    </tr>\n    <tr>\n      <th>std</th>\n      <td>379.174762</td>\n      <td>0.474549</td>\n      <td>14.747525</td>\n    </tr>\n    <tr>\n      <th>min</th>\n      <td>1.000000</td>\n      <td>0.000000</td>\n      <td>0.166700</td>\n    </tr>\n    <tr>\n      <th>25%</th>\n      <td>329.000000</td>\n      <td>0.000000</td>\n      <td>21.000000</td>\n    </tr>\n    <tr>\n      <th>50%</th>\n      <td>657.000000</td>\n      <td>0.000000</td>\n      <td>30.000000</td>\n    </tr>\n    <tr>\n      <th>75%</th>\n      <td>985.000000</td>\n      <td>1.000000</td>\n      <td>41.000000</td>\n    </tr>\n    <tr>\n      <th>max</th>\n      <td>1313.000000</td>\n      <td>1.000000</td>\n      <td>71.000000</td>\n    </tr>\n  </tbody>\n</table>\n</div>"
     },
     "execution_count": 6,
     "metadata": {},
     "output_type": "execute_result"
    }
   ],
   "source": [
    "df_titanic.describe()\n",
    "\n"
   ]
  },
  {
   "cell_type": "code",
   "execution_count": 7,
   "metadata": {},
   "outputs": [
    {
     "data": {
      "text/plain": "    passengers pclass  survived  \\\n0            1    1st         1   \n1            2    1st         0   \n2            3    1st         0   \n3            4    1st         0   \n4            5    1st         1   \n5            6    1st         1   \n6            7    1st         1   \n7            8    1st         0   \n8            9    1st         1   \n9           10    1st         0   \n10          11    1st         0   \n\n                                               name      age     embarked  \\\n0                      Allen, Miss Elisabeth Walton  29.0000  Southampton   \n1                       Allison, Miss Helen Loraine   2.0000  Southampton   \n2               Allison, Mr Hudson Joshua Creighton  30.0000  Southampton   \n3   Allison, Mrs Hudson J.C. (Bessie Waldo Daniels)  25.0000  Southampton   \n4                     Allison, Master Hudson Trevor   0.9167  Southampton   \n5                                Anderson, Mr Harry  47.0000  Southampton   \n6                  Andrews, Miss Kornelia Theodosia  63.0000  Southampton   \n7                            Andrews, Mr Thomas, jr  39.0000  Southampton   \n8      Appleton, Mrs Edward Dale (Charlotte Lamson)  58.0000  Southampton   \n9                            Artagaveytia, Mr Ramon  71.0000    Cherbourg   \n10                        Astor, Colonel John Jacob  47.0000    Cherbourg   \n\n                          home/dest   room             ticket  boat     sex  \n0                      St Louis, MO    B-5         24160 L221     2  female  \n1   Montreal, PQ / Chesterville, ON    C26                NaN   NaN  female  \n2   Montreal, PQ / Chesterville, ON    C26                NaN  -135    male  \n3   Montreal, PQ / Chesterville, ON    C26                NaN   NaN  female  \n4   Montreal, PQ / Chesterville, ON    C22                NaN    11    male  \n5                      New York, NY   E-12                NaN     3    male  \n6                        Hudson, NY    D-7          13502 L77    10  female  \n7                       Belfast, NI   A-36                NaN   NaN    male  \n8               Bayside, Queens, NY  C-101                NaN     2  female  \n9               Montevideo, Uruguay    NaN                NaN   -22    male  \n10                     New York, NY    NaN  17754 L224 10s 6d  -124    male  ",
      "text/html": "<div>\n<style scoped>\n    .dataframe tbody tr th:only-of-type {\n        vertical-align: middle;\n    }\n\n    .dataframe tbody tr th {\n        vertical-align: top;\n    }\n\n    .dataframe thead th {\n        text-align: right;\n    }\n</style>\n<table border=\"1\" class=\"dataframe\">\n  <thead>\n    <tr style=\"text-align: right;\">\n      <th></th>\n      <th>passengers</th>\n      <th>pclass</th>\n      <th>survived</th>\n      <th>name</th>\n      <th>age</th>\n      <th>embarked</th>\n      <th>home/dest</th>\n      <th>room</th>\n      <th>ticket</th>\n      <th>boat</th>\n      <th>sex</th>\n    </tr>\n  </thead>\n  <tbody>\n    <tr>\n      <th>0</th>\n      <td>1</td>\n      <td>1st</td>\n      <td>1</td>\n      <td>Allen, Miss Elisabeth Walton</td>\n      <td>29.0000</td>\n      <td>Southampton</td>\n      <td>St Louis, MO</td>\n      <td>B-5</td>\n      <td>24160 L221</td>\n      <td>2</td>\n      <td>female</td>\n    </tr>\n    <tr>\n      <th>1</th>\n      <td>2</td>\n      <td>1st</td>\n      <td>0</td>\n      <td>Allison, Miss Helen Loraine</td>\n      <td>2.0000</td>\n      <td>Southampton</td>\n      <td>Montreal, PQ / Chesterville, ON</td>\n      <td>C26</td>\n      <td>NaN</td>\n      <td>NaN</td>\n      <td>female</td>\n    </tr>\n    <tr>\n      <th>2</th>\n      <td>3</td>\n      <td>1st</td>\n      <td>0</td>\n      <td>Allison, Mr Hudson Joshua Creighton</td>\n      <td>30.0000</td>\n      <td>Southampton</td>\n      <td>Montreal, PQ / Chesterville, ON</td>\n      <td>C26</td>\n      <td>NaN</td>\n      <td>-135</td>\n      <td>male</td>\n    </tr>\n    <tr>\n      <th>3</th>\n      <td>4</td>\n      <td>1st</td>\n      <td>0</td>\n      <td>Allison, Mrs Hudson J.C. (Bessie Waldo Daniels)</td>\n      <td>25.0000</td>\n      <td>Southampton</td>\n      <td>Montreal, PQ / Chesterville, ON</td>\n      <td>C26</td>\n      <td>NaN</td>\n      <td>NaN</td>\n      <td>female</td>\n    </tr>\n    <tr>\n      <th>4</th>\n      <td>5</td>\n      <td>1st</td>\n      <td>1</td>\n      <td>Allison, Master Hudson Trevor</td>\n      <td>0.9167</td>\n      <td>Southampton</td>\n      <td>Montreal, PQ / Chesterville, ON</td>\n      <td>C22</td>\n      <td>NaN</td>\n      <td>11</td>\n      <td>male</td>\n    </tr>\n    <tr>\n      <th>5</th>\n      <td>6</td>\n      <td>1st</td>\n      <td>1</td>\n      <td>Anderson, Mr Harry</td>\n      <td>47.0000</td>\n      <td>Southampton</td>\n      <td>New York, NY</td>\n      <td>E-12</td>\n      <td>NaN</td>\n      <td>3</td>\n      <td>male</td>\n    </tr>\n    <tr>\n      <th>6</th>\n      <td>7</td>\n      <td>1st</td>\n      <td>1</td>\n      <td>Andrews, Miss Kornelia Theodosia</td>\n      <td>63.0000</td>\n      <td>Southampton</td>\n      <td>Hudson, NY</td>\n      <td>D-7</td>\n      <td>13502 L77</td>\n      <td>10</td>\n      <td>female</td>\n    </tr>\n    <tr>\n      <th>7</th>\n      <td>8</td>\n      <td>1st</td>\n      <td>0</td>\n      <td>Andrews, Mr Thomas, jr</td>\n      <td>39.0000</td>\n      <td>Southampton</td>\n      <td>Belfast, NI</td>\n      <td>A-36</td>\n      <td>NaN</td>\n      <td>NaN</td>\n      <td>male</td>\n    </tr>\n    <tr>\n      <th>8</th>\n      <td>9</td>\n      <td>1st</td>\n      <td>1</td>\n      <td>Appleton, Mrs Edward Dale (Charlotte Lamson)</td>\n      <td>58.0000</td>\n      <td>Southampton</td>\n      <td>Bayside, Queens, NY</td>\n      <td>C-101</td>\n      <td>NaN</td>\n      <td>2</td>\n      <td>female</td>\n    </tr>\n    <tr>\n      <th>9</th>\n      <td>10</td>\n      <td>1st</td>\n      <td>0</td>\n      <td>Artagaveytia, Mr Ramon</td>\n      <td>71.0000</td>\n      <td>Cherbourg</td>\n      <td>Montevideo, Uruguay</td>\n      <td>NaN</td>\n      <td>NaN</td>\n      <td>-22</td>\n      <td>male</td>\n    </tr>\n    <tr>\n      <th>10</th>\n      <td>11</td>\n      <td>1st</td>\n      <td>0</td>\n      <td>Astor, Colonel John Jacob</td>\n      <td>47.0000</td>\n      <td>Cherbourg</td>\n      <td>New York, NY</td>\n      <td>NaN</td>\n      <td>17754 L224 10s 6d</td>\n      <td>-124</td>\n      <td>male</td>\n    </tr>\n  </tbody>\n</table>\n</div>"
     },
     "execution_count": 7,
     "metadata": {},
     "output_type": "execute_result"
    }
   ],
   "source": [
    "# Slice the first 10 rows of the 'age' column. \n",
    "\n",
    "## Your code ...\n",
    "df_titanic.loc[:10]"
   ]
  },
  {
   "cell_type": "code",
   "execution_count": 8,
   "metadata": {},
   "outputs": [
    {
     "data": {
      "text/plain": "pandas.core.series.Series"
     },
     "execution_count": 8,
     "metadata": {},
     "output_type": "execute_result"
    }
   ],
   "source": [
    "# What kind of object is this 'age' column?   \n",
    "type(df_titanic['age'])\n",
    "\n",
    "# Note: Single column is neither an numpy array, nor a pandas dataframe but rather a pandas-specific object called \n",
    "# data Series."
   ]
  },
  {
   "cell_type": "code",
   "execution_count": 9,
   "metadata": {},
   "outputs": [
    {
     "data": {
      "text/plain": "31.19418104265403"
     },
     "execution_count": 9,
     "metadata": {},
     "output_type": "execute_result"
    }
   ],
   "source": [
    "# What is the average age over all passengers?\n",
    "\n",
    "## Your code ...\n",
    "average = df_titanic['age'].mean()\n",
    "average"
   ]
  },
  {
   "cell_type": "code",
   "execution_count": 10,
   "metadata": {},
   "outputs": [
    {
     "data": {
      "text/plain": "      sex pclass      age\n0  female    1st  29.0000\n1  female    1st   2.0000\n2    male    1st  30.0000\n3  female    1st  25.0000\n4    male    1st   0.9167\n5    male    1st  47.0000\n6  female    1st  63.0000\n7    male    1st  39.0000\n8  female    1st  58.0000\n9    male    1st  71.0000",
      "text/html": "<div>\n<style scoped>\n    .dataframe tbody tr th:only-of-type {\n        vertical-align: middle;\n    }\n\n    .dataframe tbody tr th {\n        vertical-align: top;\n    }\n\n    .dataframe thead th {\n        text-align: right;\n    }\n</style>\n<table border=\"1\" class=\"dataframe\">\n  <thead>\n    <tr style=\"text-align: right;\">\n      <th></th>\n      <th>sex</th>\n      <th>pclass</th>\n      <th>age</th>\n    </tr>\n  </thead>\n  <tbody>\n    <tr>\n      <th>0</th>\n      <td>female</td>\n      <td>1st</td>\n      <td>29.0000</td>\n    </tr>\n    <tr>\n      <th>1</th>\n      <td>female</td>\n      <td>1st</td>\n      <td>2.0000</td>\n    </tr>\n    <tr>\n      <th>2</th>\n      <td>male</td>\n      <td>1st</td>\n      <td>30.0000</td>\n    </tr>\n    <tr>\n      <th>3</th>\n      <td>female</td>\n      <td>1st</td>\n      <td>25.0000</td>\n    </tr>\n    <tr>\n      <th>4</th>\n      <td>male</td>\n      <td>1st</td>\n      <td>0.9167</td>\n    </tr>\n    <tr>\n      <th>5</th>\n      <td>male</td>\n      <td>1st</td>\n      <td>47.0000</td>\n    </tr>\n    <tr>\n      <th>6</th>\n      <td>female</td>\n      <td>1st</td>\n      <td>63.0000</td>\n    </tr>\n    <tr>\n      <th>7</th>\n      <td>male</td>\n      <td>1st</td>\n      <td>39.0000</td>\n    </tr>\n    <tr>\n      <th>8</th>\n      <td>female</td>\n      <td>1st</td>\n      <td>58.0000</td>\n    </tr>\n    <tr>\n      <th>9</th>\n      <td>male</td>\n      <td>1st</td>\n      <td>71.0000</td>\n    </tr>\n  </tbody>\n</table>\n</div>"
     },
     "execution_count": 10,
     "metadata": {},
     "output_type": "execute_result"
    }
   ],
   "source": [
    "# The next thing we'd like to do is look at more specific subsets of the dataframe. Slice the columns 'sex', 'pclass', \n",
    "# and 'age'.\n",
    "\n",
    "## Your code ...\n",
    "df_titanic[['sex','pclass','age']].head(10)"
   ]
  },
  {
   "cell_type": "code",
   "execution_count": 11,
   "metadata": {},
   "outputs": [
    {
     "data": {
      "text/plain": "         sex pclass  age\n12    female    1st  NaN\n13      male    1st  NaN\n14      male    1st  NaN\n29      male    1st  NaN\n32      male    1st  NaN\n...      ...    ...  ...\n1308    male    3rd  NaN\n1309    male    3rd  NaN\n1310    male    3rd  NaN\n1311  female    3rd  NaN\n1312    male    3rd  NaN\n\n[680 rows x 3 columns]",
      "text/html": "<div>\n<style scoped>\n    .dataframe tbody tr th:only-of-type {\n        vertical-align: middle;\n    }\n\n    .dataframe tbody tr th {\n        vertical-align: top;\n    }\n\n    .dataframe thead th {\n        text-align: right;\n    }\n</style>\n<table border=\"1\" class=\"dataframe\">\n  <thead>\n    <tr style=\"text-align: right;\">\n      <th></th>\n      <th>sex</th>\n      <th>pclass</th>\n      <th>age</th>\n    </tr>\n  </thead>\n  <tbody>\n    <tr>\n      <th>12</th>\n      <td>female</td>\n      <td>1st</td>\n      <td>NaN</td>\n    </tr>\n    <tr>\n      <th>13</th>\n      <td>male</td>\n      <td>1st</td>\n      <td>NaN</td>\n    </tr>\n    <tr>\n      <th>14</th>\n      <td>male</td>\n      <td>1st</td>\n      <td>NaN</td>\n    </tr>\n    <tr>\n      <th>29</th>\n      <td>male</td>\n      <td>1st</td>\n      <td>NaN</td>\n    </tr>\n    <tr>\n      <th>32</th>\n      <td>male</td>\n      <td>1st</td>\n      <td>NaN</td>\n    </tr>\n    <tr>\n      <th>...</th>\n      <td>...</td>\n      <td>...</td>\n      <td>...</td>\n    </tr>\n    <tr>\n      <th>1308</th>\n      <td>male</td>\n      <td>3rd</td>\n      <td>NaN</td>\n    </tr>\n    <tr>\n      <th>1309</th>\n      <td>male</td>\n      <td>3rd</td>\n      <td>NaN</td>\n    </tr>\n    <tr>\n      <th>1310</th>\n      <td>male</td>\n      <td>3rd</td>\n      <td>NaN</td>\n    </tr>\n    <tr>\n      <th>1311</th>\n      <td>female</td>\n      <td>3rd</td>\n      <td>NaN</td>\n    </tr>\n    <tr>\n      <th>1312</th>\n      <td>male</td>\n      <td>3rd</td>\n      <td>NaN</td>\n    </tr>\n  </tbody>\n</table>\n<p>680 rows × 3 columns</p>\n</div>"
     },
     "execution_count": 11,
     "metadata": {},
     "output_type": "execute_result"
    }
   ],
   "source": [
    "# First look at all of the missing 'age' values, because we will need to address them in our model if we hope to use \n",
    "# all the data for more advanced algorithms. To filter for missing values you can use:\n",
    "df_titanic[df_titanic['age'].isnull()][['sex', 'pclass', 'age']]\n",
    "\n",
    "# Here the only thing we did was print all (680) cases, but the same syntax can be used later if we take action on them."
   ]
  },
  {
   "cell_type": "code",
   "execution_count": 12,
   "metadata": {},
   "outputs": [
    {
     "data": {
      "text/plain": "<Figure size 432x288 with 1 Axes>",
      "image/png": "[encoded data removed]"
     },
     "metadata": {
      "needs_background": "light"
     },
     "output_type": "display_data"
    }
   ],
   "source": [
    "# Before we finish the initial investigation, let's use one other convenience function of pandas to derive a \n",
    "# histogram of any numerical column. \n",
    "import pylab as pyl\n",
    "df_titanic['age'].hist()\n",
    "pyl.show()"
   ]
  },
  {
   "cell_type": "code",
   "execution_count": 13,
   "metadata": {},
   "outputs": [
    {
     "data": {
      "text/plain": "<Figure size 432x288 with 1 Axes>",
      "image/png": "[encoded data removed]"
     },
     "metadata": {
      "needs_background": "light"
     },
     "output_type": "display_data"
    }
   ],
   "source": [
    "# Inside the parentheses of .hist(), you can also be more explicit about options of this function. Before you invoke \n",
    "# it, you can also be explicit that you are dropping the missing values of age:\n",
    "df_titanic['age'].dropna().hist(bins=16, range=(0,80), alpha = .5)\n",
    "pyl.xlabel(\"Amount of people\")\n",
    "pyl.ylabel(\"Age\")\n",
    "pyl.show()"
   ]
  },
  {
   "cell_type": "markdown",
   "metadata": {},
   "source": [
    "## 3. Data Munging"
   ]
  },
  {
   "cell_type": "markdown",
   "metadata": {},
   "source": [
    "### 3.1. Transform the Data "
   ]
  },
  {
   "cell_type": "markdown",
   "metadata": {},
   "source": [
    "Transform the values in the dataframe into the shape we need for machine learning. \n",
    "\n",
    "First of all, it's hard to run analysis on the string values of \"male\" and \"female\". \n",
    "Let's store this transformation into a new column 'Gender'. We have a precedent of analyzing the women first, so let's decide female = 0 and male = 1.  "
   ]
  },
  {
   "cell_type": "code",
   "execution_count": 14,
   "metadata": {},
   "outputs": [
    {
     "data": {
      "text/plain": "   passengers pclass  survived                                 name   age  \\\n0           1    1st         1         Allen, Miss Elisabeth Walton  29.0   \n1           2    1st         0          Allison, Miss Helen Loraine   2.0   \n2           3    1st         0  Allison, Mr Hudson Joshua Creighton  30.0   \n\n      embarked                        home/dest room      ticket  boat  \\\n0  Southampton                     St Louis, MO  B-5  24160 L221     2   \n1  Southampton  Montreal, PQ / Chesterville, ON  C26         NaN   NaN   \n2  Southampton  Montreal, PQ / Chesterville, ON  C26         NaN  -135   \n\n      sex  Gender  \n0  female       0  \n1  female       0  \n2    male       1  ",
      "text/html": "<div>\n<style scoped>\n    .dataframe tbody tr th:only-of-type {\n        vertical-align: middle;\n    }\n\n    .dataframe tbody tr th {\n        vertical-align: top;\n    }\n\n    .dataframe thead th {\n        text-align: right;\n    }\n</style>\n<table border=\"1\" class=\"dataframe\">\n  <thead>\n    <tr style=\"text-align: right;\">\n      <th></th>\n      <th>passengers</th>\n      <th>pclass</th>\n      <th>survived</th>\n      <th>name</th>\n      <th>age</th>\n      <th>embarked</th>\n      <th>home/dest</th>\n      <th>room</th>\n      <th>ticket</th>\n      <th>boat</th>\n      <th>sex</th>\n      <th>Gender</th>\n    </tr>\n  </thead>\n  <tbody>\n    <tr>\n      <th>0</th>\n      <td>1</td>\n      <td>1st</td>\n      <td>1</td>\n      <td>Allen, Miss Elisabeth Walton</td>\n      <td>29.0</td>\n      <td>Southampton</td>\n      <td>St Louis, MO</td>\n      <td>B-5</td>\n      <td>24160 L221</td>\n      <td>2</td>\n      <td>female</td>\n      <td>0</td>\n    </tr>\n    <tr>\n      <th>1</th>\n      <td>2</td>\n      <td>1st</td>\n      <td>0</td>\n      <td>Allison, Miss Helen Loraine</td>\n      <td>2.0</td>\n      <td>Southampton</td>\n      <td>Montreal, PQ / Chesterville, ON</td>\n      <td>C26</td>\n      <td>NaN</td>\n      <td>NaN</td>\n      <td>female</td>\n      <td>0</td>\n    </tr>\n    <tr>\n      <th>2</th>\n      <td>3</td>\n      <td>1st</td>\n      <td>0</td>\n      <td>Allison, Mr Hudson Joshua Creighton</td>\n      <td>30.0</td>\n      <td>Southampton</td>\n      <td>Montreal, PQ / Chesterville, ON</td>\n      <td>C26</td>\n      <td>NaN</td>\n      <td>-135</td>\n      <td>male</td>\n      <td>1</td>\n    </tr>\n  </tbody>\n</table>\n</div>"
     },
     "execution_count": 14,
     "metadata": {},
     "output_type": "execute_result"
    }
   ],
   "source": [
    "# Let's store our transformation in a new column, so the original sex isn't changed.\n",
    "#df_titanic['Gender'] = 4\n",
    "df_titanic['Gender'] = df_titanic['sex'].map( {'female': 0, 'male': 1} ).astype(int)\n",
    "df_titanic.head(3)"
   ]
  },
  {
   "cell_type": "code",
   "execution_count": 15,
   "metadata": {},
   "outputs": [
    {
     "data": {
      "text/plain": "   passengers pclass  survived                                 name   age  \\\n0           1    1st         1         Allen, Miss Elisabeth Walton  29.0   \n1           2    1st         0          Allison, Miss Helen Loraine   2.0   \n2           3    1st         0  Allison, Mr Hudson Joshua Creighton  30.0   \n\n      embarked                        home/dest room      ticket  boat  \\\n0  Southampton                     St Louis, MO  B-5  24160 L221     2   \n1  Southampton  Montreal, PQ / Chesterville, ON  C26         NaN   NaN   \n2  Southampton  Montreal, PQ / Chesterville, ON  C26         NaN  -135   \n\n      sex  Gender  PClass  \n0  female       0       1  \n1  female       0       1  \n2    male       1       1  ",
      "text/html": "<div>\n<style scoped>\n    .dataframe tbody tr th:only-of-type {\n        vertical-align: middle;\n    }\n\n    .dataframe tbody tr th {\n        vertical-align: top;\n    }\n\n    .dataframe thead th {\n        text-align: right;\n    }\n</style>\n<table border=\"1\" class=\"dataframe\">\n  <thead>\n    <tr style=\"text-align: right;\">\n      <th></th>\n      <th>passengers</th>\n      <th>pclass</th>\n      <th>survived</th>\n      <th>name</th>\n      <th>age</th>\n      <th>embarked</th>\n      <th>home/dest</th>\n      <th>room</th>\n      <th>ticket</th>\n      <th>boat</th>\n      <th>sex</th>\n      <th>Gender</th>\n      <th>PClass</th>\n    </tr>\n  </thead>\n  <tbody>\n    <tr>\n      <th>0</th>\n      <td>1</td>\n      <td>1st</td>\n      <td>1</td>\n      <td>Allen, Miss Elisabeth Walton</td>\n      <td>29.0</td>\n      <td>Southampton</td>\n      <td>St Louis, MO</td>\n      <td>B-5</td>\n      <td>24160 L221</td>\n      <td>2</td>\n      <td>female</td>\n      <td>0</td>\n      <td>1</td>\n    </tr>\n    <tr>\n      <th>1</th>\n      <td>2</td>\n      <td>1st</td>\n      <td>0</td>\n      <td>Allison, Miss Helen Loraine</td>\n      <td>2.0</td>\n      <td>Southampton</td>\n      <td>Montreal, PQ / Chesterville, ON</td>\n      <td>C26</td>\n      <td>NaN</td>\n      <td>NaN</td>\n      <td>female</td>\n      <td>0</td>\n      <td>1</td>\n    </tr>\n    <tr>\n      <th>2</th>\n      <td>3</td>\n      <td>1st</td>\n      <td>0</td>\n      <td>Allison, Mr Hudson Joshua Creighton</td>\n      <td>30.0</td>\n      <td>Southampton</td>\n      <td>Montreal, PQ / Chesterville, ON</td>\n      <td>C26</td>\n      <td>NaN</td>\n      <td>-135</td>\n      <td>male</td>\n      <td>1</td>\n      <td>1</td>\n    </tr>\n  </tbody>\n</table>\n</div>"
     },
     "execution_count": 15,
     "metadata": {},
     "output_type": "execute_result"
    }
   ],
   "source": [
    "# Do the same for passenger class, make it numeric, in a new column PClass. \n",
    "\n",
    "## Your code ...\n",
    "df_titanic['PClass'] = 5\n",
    "df_titanic['PClass'] = df_titanic['pclass'].map( {'1st' : 1, '2nd' : 2, '3rd' : 3} ).astype(int)\n",
    "df_titanic.head(3)"
   ]
  },
  {
   "cell_type": "code",
   "execution_count": 16,
   "metadata": {},
   "outputs": [
    {
     "data": {
      "text/plain": "     passengers pclass  survived  \\\n323         324    2nd         1   \n327         328    2nd         1   \n331         332    2nd         1   \n335         336    2nd         1   \n337         338    2nd         1   \n..          ...    ...       ...   \n589         590    2nd         1   \n594         595    2nd         1   \n596         597    2nd         1   \n597         598    2nd         0   \n599         600    2nd         1   \n\n                                                 name   age     embarked  \\\n323                        Abelson, Mrs Samuel (Anna)  28.0    Cherbourg   \n327                  Angle, Mrs William A. (Florence)  32.0  Southampton   \n331                            Balls, Mrs Ada E. Hall  36.0  Southampton   \n335                  Beane, Mrs Edward (Ethel Clarke)  19.0  Southampton   \n337  Becker, Mrs Allen Oliver (Nellie E. Baumgardner)  36.0  Southampton   \n..                                                ...   ...          ...   \n589                  West, Mrs Edwy Arthur (Ada Mary)  33.0  Southampton   \n594                     Wilkinson, Mrs Elizabeth Anne   NaN  Southampton   \n596                               Wright, Miss Marion  26.0  Southampton   \n597                             Yrois, Miss Henriette   NaN  Southampton   \n599                               Brown, Miss Mildred  24.0  Southampton   \n\n                               home/dest  room      ticket boat     sex  \\\n323                  Russia New York, NY   NaN         NaN   12  female   \n327                     Warwick, England   NaN         NaN  NaN  female   \n331     Bristol, Avon / Jacksonville, FL   NaN         NaN  NaN  female   \n335               Norwich / New York, NY   NaN         NaN  NaN  female   \n337   Guntur, India / Benton Harbour, MI   NaN  230136 L39   11  female   \n..                                   ...   ...         ...  ...     ...   \n589                  Bournmouth, England   NaN         NaN  NaN  female   \n594                  Manchester, England   NaN         NaN  NaN  female   \n596  Yoevil, England / Cottage Grove, OR   NaN         NaN    9  female   \n597                                Paris   NaN         NaN  NaN  female   \n599                London / Montreal, PQ  F-33         NaN   11  female   \n\n     Gender  PClass  \n323       0       2  \n327       0       2  \n331       0       2  \n335       0       2  \n337       0       2  \n..      ...     ...  \n589       0       2  \n594       0       2  \n596       0       2  \n597       0       2  \n599       0       2  \n\n[107 rows x 13 columns]",
      "text/html": "<div>\n<style scoped>\n    .dataframe tbody tr th:only-of-type {\n        vertical-align: middle;\n    }\n\n    .dataframe tbody tr th {\n        vertical-align: top;\n    }\n\n    .dataframe thead th {\n        text-align: right;\n    }\n</style>\n<table border=\"1\" class=\"dataframe\">\n  <thead>\n    <tr style=\"text-align: right;\">\n      <th></th>\n      <th>passengers</th>\n      <th>pclass</th>\n      <th>survived</th>\n      <th>name</th>\n      <th>age</th>\n      <th>embarked</th>\n      <th>home/dest</th>\n      <th>room</th>\n      <th>ticket</th>\n      <th>boat</th>\n      <th>sex</th>\n      <th>Gender</th>\n      <th>PClass</th>\n    </tr>\n  </thead>\n  <tbody>\n    <tr>\n      <th>323</th>\n      <td>324</td>\n      <td>2nd</td>\n      <td>1</td>\n      <td>Abelson, Mrs Samuel (Anna)</td>\n      <td>28.0</td>\n      <td>Cherbourg</td>\n      <td>Russia New York, NY</td>\n      <td>NaN</td>\n      <td>NaN</td>\n      <td>12</td>\n      <td>female</td>\n      <td>0</td>\n      <td>2</td>\n    </tr>\n    <tr>\n      <th>327</th>\n      <td>328</td>\n      <td>2nd</td>\n      <td>1</td>\n      <td>Angle, Mrs William A. (Florence)</td>\n      <td>32.0</td>\n      <td>Southampton</td>\n      <td>Warwick, England</td>\n      <td>NaN</td>\n      <td>NaN</td>\n      <td>NaN</td>\n      <td>female</td>\n      <td>0</td>\n      <td>2</td>\n    </tr>\n    <tr>\n      <th>331</th>\n      <td>332</td>\n      <td>2nd</td>\n      <td>1</td>\n      <td>Balls, Mrs Ada E. Hall</td>\n      <td>36.0</td>\n      <td>Southampton</td>\n      <td>Bristol, Avon / Jacksonville, FL</td>\n      <td>NaN</td>\n      <td>NaN</td>\n      <td>NaN</td>\n      <td>female</td>\n      <td>0</td>\n      <td>2</td>\n    </tr>\n    <tr>\n      <th>335</th>\n      <td>336</td>\n      <td>2nd</td>\n      <td>1</td>\n      <td>Beane, Mrs Edward (Ethel Clarke)</td>\n      <td>19.0</td>\n      <td>Southampton</td>\n      <td>Norwich / New York, NY</td>\n      <td>NaN</td>\n      <td>NaN</td>\n      <td>NaN</td>\n      <td>female</td>\n      <td>0</td>\n      <td>2</td>\n    </tr>\n    <tr>\n      <th>337</th>\n      <td>338</td>\n      <td>2nd</td>\n      <td>1</td>\n      <td>Becker, Mrs Allen Oliver (Nellie E. Baumgardner)</td>\n      <td>36.0</td>\n      <td>Southampton</td>\n      <td>Guntur, India / Benton Harbour, MI</td>\n      <td>NaN</td>\n      <td>230136 L39</td>\n      <td>11</td>\n      <td>female</td>\n      <td>0</td>\n      <td>2</td>\n    </tr>\n    <tr>\n      <th>...</th>\n      <td>...</td>\n      <td>...</td>\n      <td>...</td>\n      <td>...</td>\n      <td>...</td>\n      <td>...</td>\n      <td>...</td>\n      <td>...</td>\n      <td>...</td>\n      <td>...</td>\n      <td>...</td>\n      <td>...</td>\n      <td>...</td>\n    </tr>\n    <tr>\n      <th>589</th>\n      <td>590</td>\n      <td>2nd</td>\n      <td>1</td>\n      <td>West, Mrs Edwy Arthur (Ada Mary)</td>\n      <td>33.0</td>\n      <td>Southampton</td>\n      <td>Bournmouth, England</td>\n      <td>NaN</td>\n      <td>NaN</td>\n      <td>NaN</td>\n      <td>female</td>\n      <td>0</td>\n      <td>2</td>\n    </tr>\n    <tr>\n      <th>594</th>\n      <td>595</td>\n      <td>2nd</td>\n      <td>1</td>\n      <td>Wilkinson, Mrs Elizabeth Anne</td>\n      <td>NaN</td>\n      <td>Southampton</td>\n      <td>Manchester, England</td>\n      <td>NaN</td>\n      <td>NaN</td>\n      <td>NaN</td>\n      <td>female</td>\n      <td>0</td>\n      <td>2</td>\n    </tr>\n    <tr>\n      <th>596</th>\n      <td>597</td>\n      <td>2nd</td>\n      <td>1</td>\n      <td>Wright, Miss Marion</td>\n      <td>26.0</td>\n      <td>Southampton</td>\n      <td>Yoevil, England / Cottage Grove, OR</td>\n      <td>NaN</td>\n      <td>NaN</td>\n      <td>9</td>\n      <td>female</td>\n      <td>0</td>\n      <td>2</td>\n    </tr>\n    <tr>\n      <th>597</th>\n      <td>598</td>\n      <td>2nd</td>\n      <td>0</td>\n      <td>Yrois, Miss Henriette</td>\n      <td>NaN</td>\n      <td>Southampton</td>\n      <td>Paris</td>\n      <td>NaN</td>\n      <td>NaN</td>\n      <td>NaN</td>\n      <td>female</td>\n      <td>0</td>\n      <td>2</td>\n    </tr>\n    <tr>\n      <th>599</th>\n      <td>600</td>\n      <td>2nd</td>\n      <td>1</td>\n      <td>Brown, Miss Mildred</td>\n      <td>24.0</td>\n      <td>Southampton</td>\n      <td>London / Montreal, PQ</td>\n      <td>F-33</td>\n      <td>NaN</td>\n      <td>11</td>\n      <td>female</td>\n      <td>0</td>\n      <td>2</td>\n    </tr>\n  </tbody>\n</table>\n<p>107 rows × 13 columns</p>\n</div>"
     },
     "execution_count": 16,
     "metadata": {},
     "output_type": "execute_result"
    }
   ],
   "source": [
    "# Show all males in the second class\n",
    "\n",
    "df_titanic[(df_titanic['sex'] == 'female') & (df_titanic['pclass'] == '2nd')]"
   ]
  },
  {
   "cell_type": "markdown",
   "metadata": {},
   "source": [
    "### 3.2. Deal with Missing Values"
   ]
  },
  {
   "cell_type": "markdown",
   "metadata": {},
   "source": [
    "Now it's time to deal with the missing values of age! Why? Simply because most machine learning will need a complete set of \n",
    "values in that column to use it. By filling it in with guesses, we'll be introducing some noise into a model, but if we can \n",
    "keep our guesses reasonable, some of them should be close to the historical truth (whatever it was...), and the overall \n",
    "predictive power of age might still make a better model than before. "
   ]
  },
  {
   "cell_type": "markdown",
   "metadata": {},
   "source": [
    "We know the average age of all passengers (with valid age field) is 31.2 - we could fill in the null values with that mean value. But may be the median would be better? (to reduce the influence of a few rare 70- and 80-year olds?) The age histogram did seem positively skewed. These are the kind of decisions you make as you create your models."
   ]
  },
  {
   "cell_type": "markdown",
   "metadata": {},
   "source": [
    "Replace the NaN (unknown) age values with a reasonable estimate. Do this in a new column 'AgeFill'"
   ]
  },
  {
   "cell_type": "code",
   "execution_count": 17,
   "metadata": {},
   "outputs": [
    {
     "data": {
      "text/plain": "   passengers pclass  survived  \\\n0           1    1st         1   \n1           2    1st         0   \n2           3    1st         0   \n3           4    1st         0   \n4           5    1st         1   \n5           6    1st         1   \n6           7    1st         1   \n7           8    1st         0   \n8           9    1st         1   \n9          10    1st         0   \n\n                                              name      age     embarked  \\\n0                     Allen, Miss Elisabeth Walton  29.0000  Southampton   \n1                      Allison, Miss Helen Loraine   2.0000  Southampton   \n2              Allison, Mr Hudson Joshua Creighton  30.0000  Southampton   \n3  Allison, Mrs Hudson J.C. (Bessie Waldo Daniels)  25.0000  Southampton   \n4                    Allison, Master Hudson Trevor   0.9167  Southampton   \n5                               Anderson, Mr Harry  47.0000  Southampton   \n6                 Andrews, Miss Kornelia Theodosia  63.0000  Southampton   \n7                           Andrews, Mr Thomas, jr  39.0000  Southampton   \n8     Appleton, Mrs Edward Dale (Charlotte Lamson)  58.0000  Southampton   \n9                           Artagaveytia, Mr Ramon  71.0000    Cherbourg   \n\n                         home/dest   room      ticket  boat     sex  Gender  \\\n0                     St Louis, MO    B-5  24160 L221     2  female       0   \n1  Montreal, PQ / Chesterville, ON    C26         NaN   NaN  female       0   \n2  Montreal, PQ / Chesterville, ON    C26         NaN  -135    male       1   \n3  Montreal, PQ / Chesterville, ON    C26         NaN   NaN  female       0   \n4  Montreal, PQ / Chesterville, ON    C22         NaN    11    male       1   \n5                     New York, NY   E-12         NaN     3    male       1   \n6                       Hudson, NY    D-7   13502 L77    10  female       0   \n7                      Belfast, NI   A-36         NaN   NaN    male       1   \n8              Bayside, Queens, NY  C-101         NaN     2  female       0   \n9              Montevideo, Uruguay    NaN         NaN   -22    male       1   \n\n   PClass  AgeFill  \n0       1  29.0000  \n1       1   2.0000  \n2       1  30.0000  \n3       1  25.0000  \n4       1   0.9167  \n5       1  47.0000  \n6       1  63.0000  \n7       1  39.0000  \n8       1  58.0000  \n9       1  71.0000  ",
      "text/html": "<div>\n<style scoped>\n    .dataframe tbody tr th:only-of-type {\n        vertical-align: middle;\n    }\n\n    .dataframe tbody tr th {\n        vertical-align: top;\n    }\n\n    .dataframe thead th {\n        text-align: right;\n    }\n</style>\n<table border=\"1\" class=\"dataframe\">\n  <thead>\n    <tr style=\"text-align: right;\">\n      <th></th>\n      <th>passengers</th>\n      <th>pclass</th>\n      <th>survived</th>\n      <th>name</th>\n      <th>age</th>\n      <th>embarked</th>\n      <th>home/dest</th>\n      <th>room</th>\n      <th>ticket</th>\n      <th>boat</th>\n      <th>sex</th>\n      <th>Gender</th>\n      <th>PClass</th>\n      <th>AgeFill</th>\n    </tr>\n  </thead>\n  <tbody>\n    <tr>\n      <th>0</th>\n      <td>1</td>\n      <td>1st</td>\n      <td>1</td>\n      <td>Allen, Miss Elisabeth Walton</td>\n      <td>29.0000</td>\n      <td>Southampton</td>\n      <td>St Louis, MO</td>\n      <td>B-5</td>\n      <td>24160 L221</td>\n      <td>2</td>\n      <td>female</td>\n      <td>0</td>\n      <td>1</td>\n      <td>29.0000</td>\n    </tr>\n    <tr>\n      <th>1</th>\n      <td>2</td>\n      <td>1st</td>\n      <td>0</td>\n      <td>Allison, Miss Helen Loraine</td>\n      <td>2.0000</td>\n      <td>Southampton</td>\n      <td>Montreal, PQ / Chesterville, ON</td>\n      <td>C26</td>\n      <td>NaN</td>\n      <td>NaN</td>\n      <td>female</td>\n      <td>0</td>\n      <td>1</td>\n      <td>2.0000</td>\n    </tr>\n    <tr>\n      <th>2</th>\n      <td>3</td>\n      <td>1st</td>\n      <td>0</td>\n      <td>Allison, Mr Hudson Joshua Creighton</td>\n      <td>30.0000</td>\n      <td>Southampton</td>\n      <td>Montreal, PQ / Chesterville, ON</td>\n      <td>C26</td>\n      <td>NaN</td>\n      <td>-135</td>\n      <td>male</td>\n      <td>1</td>\n      <td>1</td>\n      <td>30.0000</td>\n    </tr>\n    <tr>\n      <th>3</th>\n      <td>4</td>\n      <td>1st</td>\n      <td>0</td>\n      <td>Allison, Mrs Hudson J.C. (Bessie Waldo Daniels)</td>\n      <td>25.0000</td>\n      <td>Southampton</td>\n      <td>Montreal, PQ / Chesterville, ON</td>\n      <td>C26</td>\n      <td>NaN</td>\n      <td>NaN</td>\n      <td>female</td>\n      <td>0</td>\n      <td>1</td>\n      <td>25.0000</td>\n    </tr>\n    <tr>\n      <th>4</th>\n      <td>5</td>\n      <td>1st</td>\n      <td>1</td>\n      <td>Allison, Master Hudson Trevor</td>\n      <td>0.9167</td>\n      <td>Southampton</td>\n      <td>Montreal, PQ / Chesterville, ON</td>\n      <td>C22</td>\n      <td>NaN</td>\n      <td>11</td>\n      <td>male</td>\n      <td>1</td>\n      <td>1</td>\n      <td>0.9167</td>\n    </tr>\n    <tr>\n      <th>5</th>\n      <td>6</td>\n      <td>1st</td>\n      <td>1</td>\n      <td>Anderson, Mr Harry</td>\n      <td>47.0000</td>\n      <td>Southampton</td>\n      <td>New York, NY</td>\n      <td>E-12</td>\n      <td>NaN</td>\n      <td>3</td>\n      <td>male</td>\n      <td>1</td>\n      <td>1</td>\n      <td>47.0000</td>\n    </tr>\n    <tr>\n      <th>6</th>\n      <td>7</td>\n      <td>1st</td>\n      <td>1</td>\n      <td>Andrews, Miss Kornelia Theodosia</td>\n      <td>63.0000</td>\n      <td>Southampton</td>\n      <td>Hudson, NY</td>\n      <td>D-7</td>\n      <td>13502 L77</td>\n      <td>10</td>\n      <td>female</td>\n      <td>0</td>\n      <td>1</td>\n      <td>63.0000</td>\n    </tr>\n    <tr>\n      <th>7</th>\n      <td>8</td>\n      <td>1st</td>\n      <td>0</td>\n      <td>Andrews, Mr Thomas, jr</td>\n      <td>39.0000</td>\n      <td>Southampton</td>\n      <td>Belfast, NI</td>\n      <td>A-36</td>\n      <td>NaN</td>\n      <td>NaN</td>\n      <td>male</td>\n      <td>1</td>\n      <td>1</td>\n      <td>39.0000</td>\n    </tr>\n    <tr>\n      <th>8</th>\n      <td>9</td>\n      <td>1st</td>\n      <td>1</td>\n      <td>Appleton, Mrs Edward Dale (Charlotte Lamson)</td>\n      <td>58.0000</td>\n      <td>Southampton</td>\n      <td>Bayside, Queens, NY</td>\n      <td>C-101</td>\n      <td>NaN</td>\n      <td>2</td>\n      <td>female</td>\n      <td>0</td>\n      <td>1</td>\n      <td>58.0000</td>\n    </tr>\n    <tr>\n      <th>9</th>\n      <td>10</td>\n      <td>1st</td>\n      <td>0</td>\n      <td>Artagaveytia, Mr Ramon</td>\n      <td>71.0000</td>\n      <td>Cherbourg</td>\n      <td>Montevideo, Uruguay</td>\n      <td>NaN</td>\n      <td>NaN</td>\n      <td>-22</td>\n      <td>male</td>\n      <td>1</td>\n      <td>1</td>\n      <td>71.0000</td>\n    </tr>\n  </tbody>\n</table>\n</div>"
     },
     "execution_count": 17,
     "metadata": {},
     "output_type": "execute_result"
    }
   ],
   "source": [
    "average_age = df_titanic['age'].mean()\n",
    "average_age\n",
    "\n",
    "df_titanic['AgeFill'] = 6\n",
    "df_titanic['AgeFill'] = df_titanic['age'].fillna(average_age)\n",
    "df_titanic.head(10)\n"
   ]
  },
  {
   "cell_type": "markdown",
   "metadata": {},
   "source": [
    "#### Now use the mean age of male and female for each passenger class:"
   ]
  },
  {
   "cell_type": "code",
   "execution_count": 18,
   "metadata": {},
   "outputs": [
    {
     "data": {
      "text/plain": "                     age\nsex    PClass           \nfemale 1       37.772277\n       2       27.388235\n       3       22.564328\nmale   1       41.199334\n       2       28.910761\n       3       25.327294",
      "text/html": "<div>\n<style scoped>\n    .dataframe tbody tr th:only-of-type {\n        vertical-align: middle;\n    }\n\n    .dataframe tbody tr th {\n        vertical-align: top;\n    }\n\n    .dataframe thead th {\n        text-align: right;\n    }\n</style>\n<table border=\"1\" class=\"dataframe\">\n  <thead>\n    <tr style=\"text-align: right;\">\n      <th></th>\n      <th></th>\n      <th>age</th>\n    </tr>\n    <tr>\n      <th>sex</th>\n      <th>PClass</th>\n      <th></th>\n    </tr>\n  </thead>\n  <tbody>\n    <tr>\n      <th rowspan=\"3\" valign=\"top\">female</th>\n      <th>1</th>\n      <td>37.772277</td>\n    </tr>\n    <tr>\n      <th>2</th>\n      <td>27.388235</td>\n    </tr>\n    <tr>\n      <th>3</th>\n      <td>22.564328</td>\n    </tr>\n    <tr>\n      <th rowspan=\"3\" valign=\"top\">male</th>\n      <th>1</th>\n      <td>41.199334</td>\n    </tr>\n    <tr>\n      <th>2</th>\n      <td>28.910761</td>\n    </tr>\n    <tr>\n      <th>3</th>\n      <td>25.327294</td>\n    </tr>\n  </tbody>\n</table>\n</div>"
     },
     "execution_count": 18,
     "metadata": {},
     "output_type": "execute_result"
    }
   ],
   "source": [
    "## Show mean per class and sex\n",
    "df_titanic.loc[:,['sex', 'PClass', 'age']].groupby(['sex', 'PClass']).mean()"
   ]
  },
  {
   "cell_type": "code",
   "execution_count": 19,
   "metadata": {},
   "outputs": [
    {
     "data": {
      "text/plain": "      passengers pclass  survived                    name  age embarked  \\\n1303        1304    3rd         0      Yasbeck, Mr Antoni  NaN      NaN   \n1304        1305    3rd         1     Yasbeck, Mrs Antoni  NaN      NaN   \n1305        1306    3rd         0      Youssef, Mr Gerios  NaN      NaN   \n1306        1307    3rd         0     Zabour, Miss Hileni  NaN      NaN   \n1307        1308    3rd         0     Zabour, Miss Tamini  NaN      NaN   \n1308        1309    3rd         0      Zakarian, Mr Artun  NaN      NaN   \n1309        1310    3rd         0  Zakarian, Mr Maprieder  NaN      NaN   \n1310        1311    3rd         0         Zenn, Mr Philip  NaN      NaN   \n1311        1312    3rd         0           Zievens, Rene  NaN      NaN   \n1312        1313    3rd         0          Zimmerman, Leo  NaN      NaN   \n\n     home/dest room ticket boat     sex  Gender  PClass    AgeFill   AgeFillM  \n1303       NaN  NaN    NaN  NaN    male       1       3  31.194181  25.327294  \n1304       NaN  NaN    NaN  NaN  female       0       3  31.194181  22.564328  \n1305       NaN  NaN    NaN  NaN    male       1       3  31.194181  25.327294  \n1306       NaN  NaN    NaN  NaN  female       0       3  31.194181  22.564328  \n1307       NaN  NaN    NaN  NaN  female       0       3  31.194181  22.564328  \n1308       NaN  NaN    NaN  NaN    male       1       3  31.194181  25.327294  \n1309       NaN  NaN    NaN  NaN    male       1       3  31.194181  25.327294  \n1310       NaN  NaN    NaN  NaN    male       1       3  31.194181  25.327294  \n1311       NaN  NaN    NaN  NaN  female       0       3  31.194181  22.564328  \n1312       NaN  NaN    NaN  NaN    male       1       3  31.194181  25.327294  ",
      "text/html": "<div>\n<style scoped>\n    .dataframe tbody tr th:only-of-type {\n        vertical-align: middle;\n    }\n\n    .dataframe tbody tr th {\n        vertical-align: top;\n    }\n\n    .dataframe thead th {\n        text-align: right;\n    }\n</style>\n<table border=\"1\" class=\"dataframe\">\n  <thead>\n    <tr style=\"text-align: right;\">\n      <th></th>\n      <th>passengers</th>\n      <th>pclass</th>\n      <th>survived</th>\n      <th>name</th>\n      <th>age</th>\n      <th>embarked</th>\n      <th>home/dest</th>\n      <th>room</th>\n      <th>ticket</th>\n      <th>boat</th>\n      <th>sex</th>\n      <th>Gender</th>\n      <th>PClass</th>\n      <th>AgeFill</th>\n      <th>AgeFillM</th>\n    </tr>\n  </thead>\n  <tbody>\n    <tr>\n      <th>1303</th>\n      <td>1304</td>\n      <td>3rd</td>\n      <td>0</td>\n      <td>Yasbeck, Mr Antoni</td>\n      <td>NaN</td>\n      <td>NaN</td>\n      <td>NaN</td>\n      <td>NaN</td>\n      <td>NaN</td>\n      <td>NaN</td>\n      <td>male</td>\n      <td>1</td>\n      <td>3</td>\n      <td>31.194181</td>\n      <td>25.327294</td>\n    </tr>\n    <tr>\n      <th>1304</th>\n      <td>1305</td>\n      <td>3rd</td>\n      <td>1</td>\n      <td>Yasbeck, Mrs Antoni</td>\n      <td>NaN</td>\n      <td>NaN</td>\n      <td>NaN</td>\n      <td>NaN</td>\n      <td>NaN</td>\n      <td>NaN</td>\n      <td>female</td>\n      <td>0</td>\n      <td>3</td>\n      <td>31.194181</td>\n      <td>22.564328</td>\n    </tr>\n    <tr>\n      <th>1305</th>\n      <td>1306</td>\n      <td>3rd</td>\n      <td>0</td>\n      <td>Youssef, Mr Gerios</td>\n      <td>NaN</td>\n      <td>NaN</td>\n      <td>NaN</td>\n      <td>NaN</td>\n      <td>NaN</td>\n      <td>NaN</td>\n      <td>male</td>\n      <td>1</td>\n      <td>3</td>\n      <td>31.194181</td>\n      <td>25.327294</td>\n    </tr>\n    <tr>\n      <th>1306</th>\n      <td>1307</td>\n      <td>3rd</td>\n      <td>0</td>\n      <td>Zabour, Miss Hileni</td>\n      <td>NaN</td>\n      <td>NaN</td>\n      <td>NaN</td>\n      <td>NaN</td>\n      <td>NaN</td>\n      <td>NaN</td>\n      <td>female</td>\n      <td>0</td>\n      <td>3</td>\n      <td>31.194181</td>\n      <td>22.564328</td>\n    </tr>\n    <tr>\n      <th>1307</th>\n      <td>1308</td>\n      <td>3rd</td>\n      <td>0</td>\n      <td>Zabour, Miss Tamini</td>\n      <td>NaN</td>\n      <td>NaN</td>\n      <td>NaN</td>\n      <td>NaN</td>\n      <td>NaN</td>\n      <td>NaN</td>\n      <td>female</td>\n      <td>0</td>\n      <td>3</td>\n      <td>31.194181</td>\n      <td>22.564328</td>\n    </tr>\n    <tr>\n      <th>1308</th>\n      <td>1309</td>\n      <td>3rd</td>\n      <td>0</td>\n      <td>Zakarian, Mr Artun</td>\n      <td>NaN</td>\n      <td>NaN</td>\n      <td>NaN</td>\n      <td>NaN</td>\n      <td>NaN</td>\n      <td>NaN</td>\n      <td>male</td>\n      <td>1</td>\n      <td>3</td>\n      <td>31.194181</td>\n      <td>25.327294</td>\n    </tr>\n    <tr>\n      <th>1309</th>\n      <td>1310</td>\n      <td>3rd</td>\n      <td>0</td>\n      <td>Zakarian, Mr Maprieder</td>\n      <td>NaN</td>\n      <td>NaN</td>\n      <td>NaN</td>\n      <td>NaN</td>\n      <td>NaN</td>\n      <td>NaN</td>\n      <td>male</td>\n      <td>1</td>\n      <td>3</td>\n      <td>31.194181</td>\n      <td>25.327294</td>\n    </tr>\n    <tr>\n      <th>1310</th>\n      <td>1311</td>\n      <td>3rd</td>\n      <td>0</td>\n      <td>Zenn, Mr Philip</td>\n      <td>NaN</td>\n      <td>NaN</td>\n      <td>NaN</td>\n      <td>NaN</td>\n      <td>NaN</td>\n      <td>NaN</td>\n      <td>male</td>\n      <td>1</td>\n      <td>3</td>\n      <td>31.194181</td>\n      <td>25.327294</td>\n    </tr>\n    <tr>\n      <th>1311</th>\n      <td>1312</td>\n      <td>3rd</td>\n      <td>0</td>\n      <td>Zievens, Rene</td>\n      <td>NaN</td>\n      <td>NaN</td>\n      <td>NaN</td>\n      <td>NaN</td>\n      <td>NaN</td>\n      <td>NaN</td>\n      <td>female</td>\n      <td>0</td>\n      <td>3</td>\n      <td>31.194181</td>\n      <td>22.564328</td>\n    </tr>\n    <tr>\n      <th>1312</th>\n      <td>1313</td>\n      <td>3rd</td>\n      <td>0</td>\n      <td>Zimmerman, Leo</td>\n      <td>NaN</td>\n      <td>NaN</td>\n      <td>NaN</td>\n      <td>NaN</td>\n      <td>NaN</td>\n      <td>NaN</td>\n      <td>male</td>\n      <td>1</td>\n      <td>3</td>\n      <td>31.194181</td>\n      <td>25.327294</td>\n    </tr>\n  </tbody>\n</table>\n</div>"
     },
     "execution_count": 19,
     "metadata": {},
     "output_type": "execute_result"
    }
   ],
   "source": [
    "## Show the average of of each sex per passenger class.\n",
    "df_titanic['AgeFillM'] = df_titanic.groupby(['sex', 'PClass'])['age'].apply(lambda x: x.fillna(x.mean()))\n",
    "\n",
    "## Show last values again\n",
    "df_titanic.tail(10)"
   ]
  },
  {
   "cell_type": "markdown",
   "metadata": {},
   "source": [
    "### 3.3 Hot Encoding"
   ]
  },
  {
   "cell_type": "markdown",
   "metadata": {},
   "source": [
    "We have a categorical feature attribute: pclass. We already converted its three classes into 0, 1, and 2. This transformation implicitly introduces an ordering. \n",
    "\n",
    "As a final step, we will try a more general approach that does not assume an ordering. This is widely used to convert categorical classes into real-valued attributes. We will introduce an additional encoder and convert the class attributes into three new binary features, each of them indicating if the instance belongs to a feature value (1) or (0). This is called one hot encoding, and it is a very common way of managing categorical attributes for real-based methods."
   ]
  },
  {
   "cell_type": "code",
   "execution_count": 20,
   "metadata": {},
   "outputs": [
    {
     "data": {
      "text/plain": "   passengers pclass  survived  \\\n0           1    1st         1   \n1           2    1st         0   \n2           3    1st         0   \n3           4    1st         0   \n4           5    1st         1   \n\n                                              name      age     embarked  \\\n0                     Allen, Miss Elisabeth Walton  29.0000  Southampton   \n1                      Allison, Miss Helen Loraine   2.0000  Southampton   \n2              Allison, Mr Hudson Joshua Creighton  30.0000  Southampton   \n3  Allison, Mrs Hudson J.C. (Bessie Waldo Daniels)  25.0000  Southampton   \n4                    Allison, Master Hudson Trevor   0.9167  Southampton   \n\n                         home/dest room      ticket  boat     sex  Gender  \\\n0                     St Louis, MO  B-5  24160 L221     2  female       0   \n1  Montreal, PQ / Chesterville, ON  C26         NaN   NaN  female       0   \n2  Montreal, PQ / Chesterville, ON  C26         NaN  -135    male       1   \n3  Montreal, PQ / Chesterville, ON  C26         NaN   NaN  female       0   \n4  Montreal, PQ / Chesterville, ON  C22         NaN    11    male       1   \n\n   PClass  AgeFill  AgeFillM  FirstClass  SecondClass  ThirdClass  \n0       1  29.0000   29.0000           1            0           0  \n1       1   2.0000    2.0000           1            0           0  \n2       1  30.0000   30.0000           1            0           0  \n3       1  25.0000   25.0000           1            0           0  \n4       1   0.9167    0.9167           1            0           0  ",
      "text/html": "<div>\n<style scoped>\n    .dataframe tbody tr th:only-of-type {\n        vertical-align: middle;\n    }\n\n    .dataframe tbody tr th {\n        vertical-align: top;\n    }\n\n    .dataframe thead th {\n        text-align: right;\n    }\n</style>\n<table border=\"1\" class=\"dataframe\">\n  <thead>\n    <tr style=\"text-align: right;\">\n      <th></th>\n      <th>passengers</th>\n      <th>pclass</th>\n      <th>survived</th>\n      <th>name</th>\n      <th>age</th>\n      <th>embarked</th>\n      <th>home/dest</th>\n      <th>room</th>\n      <th>ticket</th>\n      <th>boat</th>\n      <th>sex</th>\n      <th>Gender</th>\n      <th>PClass</th>\n      <th>AgeFill</th>\n      <th>AgeFillM</th>\n      <th>FirstClass</th>\n      <th>SecondClass</th>\n      <th>ThirdClass</th>\n    </tr>\n  </thead>\n  <tbody>\n    <tr>\n      <th>0</th>\n      <td>1</td>\n      <td>1st</td>\n      <td>1</td>\n      <td>Allen, Miss Elisabeth Walton</td>\n      <td>29.0000</td>\n      <td>Southampton</td>\n      <td>St Louis, MO</td>\n      <td>B-5</td>\n      <td>24160 L221</td>\n      <td>2</td>\n      <td>female</td>\n      <td>0</td>\n      <td>1</td>\n      <td>29.0000</td>\n      <td>29.0000</td>\n      <td>1</td>\n      <td>0</td>\n      <td>0</td>\n    </tr>\n    <tr>\n      <th>1</th>\n      <td>2</td>\n      <td>1st</td>\n      <td>0</td>\n      <td>Allison, Miss Helen Loraine</td>\n      <td>2.0000</td>\n      <td>Southampton</td>\n      <td>Montreal, PQ / Chesterville, ON</td>\n      <td>C26</td>\n      <td>NaN</td>\n      <td>NaN</td>\n      <td>female</td>\n      <td>0</td>\n      <td>1</td>\n      <td>2.0000</td>\n      <td>2.0000</td>\n      <td>1</td>\n      <td>0</td>\n      <td>0</td>\n    </tr>\n    <tr>\n      <th>2</th>\n      <td>3</td>\n      <td>1st</td>\n      <td>0</td>\n      <td>Allison, Mr Hudson Joshua Creighton</td>\n      <td>30.0000</td>\n      <td>Southampton</td>\n      <td>Montreal, PQ / Chesterville, ON</td>\n      <td>C26</td>\n      <td>NaN</td>\n      <td>-135</td>\n      <td>male</td>\n      <td>1</td>\n      <td>1</td>\n      <td>30.0000</td>\n      <td>30.0000</td>\n      <td>1</td>\n      <td>0</td>\n      <td>0</td>\n    </tr>\n    <tr>\n      <th>3</th>\n      <td>4</td>\n      <td>1st</td>\n      <td>0</td>\n      <td>Allison, Mrs Hudson J.C. (Bessie Waldo Daniels)</td>\n      <td>25.0000</td>\n      <td>Southampton</td>\n      <td>Montreal, PQ / Chesterville, ON</td>\n      <td>C26</td>\n      <td>NaN</td>\n      <td>NaN</td>\n      <td>female</td>\n      <td>0</td>\n      <td>1</td>\n      <td>25.0000</td>\n      <td>25.0000</td>\n      <td>1</td>\n      <td>0</td>\n      <td>0</td>\n    </tr>\n    <tr>\n      <th>4</th>\n      <td>5</td>\n      <td>1st</td>\n      <td>1</td>\n      <td>Allison, Master Hudson Trevor</td>\n      <td>0.9167</td>\n      <td>Southampton</td>\n      <td>Montreal, PQ / Chesterville, ON</td>\n      <td>C22</td>\n      <td>NaN</td>\n      <td>11</td>\n      <td>male</td>\n      <td>1</td>\n      <td>1</td>\n      <td>0.9167</td>\n      <td>0.9167</td>\n      <td>1</td>\n      <td>0</td>\n      <td>0</td>\n    </tr>\n  </tbody>\n</table>\n</div>"
     },
     "execution_count": 20,
     "metadata": {},
     "output_type": "execute_result"
    }
   ],
   "source": [
    "df_titanic['FirstClass'] = df_titanic['pclass'].map( {'1st': 1, '2nd': 0, '3rd': 0} ).astype(int)\n",
    "df_titanic['SecondClass'] = df_titanic['pclass'].map( {'1st': 0, '2nd': 1, '3rd': 0} ).astype(int)\n",
    "df_titanic['ThirdClass'] = df_titanic['pclass'].map( {'1st': 0, '2nd': 0, '3rd': 1} ).astype(int)\n",
    "\n",
    "df_titanic.head(5)"
   ]
  },
  {
   "cell_type": "markdown",
   "metadata": {},
   "source": [
    "## 4. Preprocessing"
   ]
  },
  {
   "cell_type": "markdown",
   "metadata": {},
   "source": [
    "Let's start with feature selection"
   ]
  },
  {
   "cell_type": "code",
   "execution_count": 21,
   "metadata": {},
   "outputs": [],
   "source": [
    "titanic_X = df_titanic[['AgeFillM','Gender','FirstClass','SecondClass','ThirdClass']]\n",
    "titanic_y = df_titanic['survived']"
   ]
  },
  {
   "cell_type": "code",
   "execution_count": 22,
   "metadata": {},
   "outputs": [
    {
     "data": {
      "text/plain": "   AgeFillM  Gender  FirstClass  SecondClass  ThirdClass\n0   29.0000       0           1            0           0\n1    2.0000       0           1            0           0\n2   30.0000       1           1            0           0\n3   25.0000       0           1            0           0\n4    0.9167       1           1            0           0\n5   47.0000       1           1            0           0\n6   63.0000       0           1            0           0\n7   39.0000       1           1            0           0\n8   58.0000       0           1            0           0\n9   71.0000       1           1            0           0",
      "text/html": "<div>\n<style scoped>\n    .dataframe tbody tr th:only-of-type {\n        vertical-align: middle;\n    }\n\n    .dataframe tbody tr th {\n        vertical-align: top;\n    }\n\n    .dataframe thead th {\n        text-align: right;\n    }\n</style>\n<table border=\"1\" class=\"dataframe\">\n  <thead>\n    <tr style=\"text-align: right;\">\n      <th></th>\n      <th>AgeFillM</th>\n      <th>Gender</th>\n      <th>FirstClass</th>\n      <th>SecondClass</th>\n      <th>ThirdClass</th>\n    </tr>\n  </thead>\n  <tbody>\n    <tr>\n      <th>0</th>\n      <td>29.0000</td>\n      <td>0</td>\n      <td>1</td>\n      <td>0</td>\n      <td>0</td>\n    </tr>\n    <tr>\n      <th>1</th>\n      <td>2.0000</td>\n      <td>0</td>\n      <td>1</td>\n      <td>0</td>\n      <td>0</td>\n    </tr>\n    <tr>\n      <th>2</th>\n      <td>30.0000</td>\n      <td>1</td>\n      <td>1</td>\n      <td>0</td>\n      <td>0</td>\n    </tr>\n    <tr>\n      <th>3</th>\n      <td>25.0000</td>\n      <td>0</td>\n      <td>1</td>\n      <td>0</td>\n      <td>0</td>\n    </tr>\n    <tr>\n      <th>4</th>\n      <td>0.9167</td>\n      <td>1</td>\n      <td>1</td>\n      <td>0</td>\n      <td>0</td>\n    </tr>\n    <tr>\n      <th>5</th>\n      <td>47.0000</td>\n      <td>1</td>\n      <td>1</td>\n      <td>0</td>\n      <td>0</td>\n    </tr>\n    <tr>\n      <th>6</th>\n      <td>63.0000</td>\n      <td>0</td>\n      <td>1</td>\n      <td>0</td>\n      <td>0</td>\n    </tr>\n    <tr>\n      <th>7</th>\n      <td>39.0000</td>\n      <td>1</td>\n      <td>1</td>\n      <td>0</td>\n      <td>0</td>\n    </tr>\n    <tr>\n      <th>8</th>\n      <td>58.0000</td>\n      <td>0</td>\n      <td>1</td>\n      <td>0</td>\n      <td>0</td>\n    </tr>\n    <tr>\n      <th>9</th>\n      <td>71.0000</td>\n      <td>1</td>\n      <td>1</td>\n      <td>0</td>\n      <td>0</td>\n    </tr>\n  </tbody>\n</table>\n</div>"
     },
     "execution_count": 22,
     "metadata": {},
     "output_type": "execute_result"
    }
   ],
   "source": [
    "titanic_X.head(10)"
   ]
  },
  {
   "cell_type": "code",
   "execution_count": 23,
   "metadata": {},
   "outputs": [
    {
     "data": {
      "text/plain": "0    1\n1    0\n2    0\n3    0\n4    1\n5    1\n6    1\n7    0\n8    1\n9    0\nName: survived, dtype: int64"
     },
     "execution_count": 23,
     "metadata": {},
     "output_type": "execute_result"
    }
   ],
   "source": [
    "titanic_y.head(10)"
   ]
  },
  {
   "cell_type": "markdown",
   "metadata": {},
   "source": [
    "Now split the data into train and test"
   ]
  },
  {
   "cell_type": "code",
   "execution_count": 24,
   "metadata": {},
   "outputs": [],
   "source": [
    "from sklearn.model_selection import train_test_split\n",
    "\n",
    "X_train_titanic, X_test_titanic, y_train_titanic, y_test_titanic = train_test_split(titanic_X, titanic_y, test_size=0.2, random_state = 42)"
   ]
  },
  {
   "cell_type": "markdown",
   "metadata": {},
   "source": [
    "## 5. Modeling"
   ]
  },
  {
   "cell_type": "markdown",
   "metadata": {},
   "source": [
    "The preprocessing step is usually under-estimated in machine learning methods, but as we can see even in this very simple example, it can take some time to make data look as our methods expect. It is also very important in the overall machine learning process; if we fail in this step (for example, incorrectly encoding attributes, or selecting the wrong features), the following steps will fail, no matter how good the method we use for learning!!\n",
    "\n",
    "We are now ready for the implementation of decision trees in scikit-learn, as this algo expects as input a list of \n",
    "real-valued features, and the decision rules of the model would be of the form: Feature < value. \n",
    "For example, AgeFill < 20.0.\n",
    "\n",
    "Standardization (normalization) is not an issue for decision trees because the relative magnitude of features does not \n",
    "affect the classifier performance; so scaling is not needed."
   ]
  },
  {
   "cell_type": "markdown",
   "metadata": {},
   "source": [
    "### 5.1. Training a Decision Tree Classifier"
   ]
  },
  {
   "cell_type": "markdown",
   "metadata": {},
   "source": [
    " Now, we can create a new DecisionTreeClassifier and use the fit method of the classifier to do the learning job. \n",
    " Parameter settings: use the entropy citerion and try out different settings for the depth of the tree and the \n",
    " minimum samples required for a node in the tree graph"
   ]
  },
  {
   "cell_type": "code",
   "execution_count": 25,
   "metadata": {},
   "outputs": [
    {
     "data": {
      "text/plain": "<Figure size 432x288 with 1 Axes>",
      "image/png": "[encoded data removed]"
     },
     "metadata": {
      "needs_background": "light"
     },
     "output_type": "display_data"
    }
   ],
   "source": [
    "from sklearn import tree\n",
    "from sklearn.tree import DecisionTreeClassifier\n",
    "\n",
    "tree_clf = DecisionTreeClassifier(criterion='entropy', max_depth=3, min_samples_split=2, random_state = 42)\n",
    "tree_clf.fit(titanic_X,titanic_y)\n",
    "\n",
    "tree.plot_tree(tree_clf);"
   ]
  },
  {
   "cell_type": "markdown",
   "metadata": {},
   "source": [
    "### 5.2. Evaluation Metrics Function"
   ]
  },
  {
   "cell_type": "code",
   "execution_count": 26,
   "metadata": {},
   "outputs": [
    {
     "data": {
      "text/plain": "0.8250950570342205"
     },
     "execution_count": 26,
     "metadata": {},
     "output_type": "execute_result"
    }
   ],
   "source": [
    "from sklearn import metrics\n",
    "from sklearn.metrics import accuracy_score\n",
    "\n",
    "y_pred = tree_clf.predict(X_test_titanic)\n",
    "accuracy_score(y_test_titanic, y_pred)"
   ]
  },
  {
   "cell_type": "markdown",
   "metadata": {},
   "source": [
    "### 5.3. Keep age as the only feature and run decision tree classification again. Compare the evaluation."
   ]
  },
  {
   "cell_type": "code",
   "execution_count": 26,
   "metadata": {},
   "outputs": [],
   "source": []
  },
  {
   "cell_type": "markdown",
   "metadata": {},
   "source": [
    "### 5.4. Add embarked as the new feature with one hot encoding. Run the decision tree classification again. Compare the evaluation. Do you believe the model has been improved? Why?"
   ]
  },
  {
   "cell_type": "code",
   "execution_count": 26,
   "metadata": {},
   "outputs": [],
   "source": []
  },
  {
   "cell_type": "markdown",
   "metadata": {},
   "source": [
    "## 6. Introducing Random Forest"
   ]
  },
  {
   "cell_type": "markdown",
   "metadata": {},
   "source": [
    "A common criticism to decision trees is that once the training set is divided after\n",
    "answering a question, it is not possible to *reconsider this decision*. For example, if\n",
    "we divide men and women, every subsequent question would be only about men or\n",
    "women, and the method could not consider another type of question (say, age less\n",
    "than a year, irrespective of the gender). Random Forests try to introduce some level\n",
    "of randomization in each step, proposing alternative trees and combining them to\n",
    "get the final prediction. These types of algorithms that consider several classifiers\n",
    "answering the same question are called **ensemble methods**. In the Titanic task, it is\n",
    "probably hard to see this problem because we have very few features, but usually\n",
    "a case has in the order of thousand(s) features."
   ]
  },
  {
   "cell_type": "markdown",
   "metadata": {},
   "source": [
    "Random Forests propose to build several decision trees, each one based on a subset of the training\n",
    "instances (selected randomly), and using a small random number of features. \n",
    "This produces multiple classifiers (multiple decision trees). \n",
    "At prediction time, each grown tree, given an instance, predicts its target class exactly as decision trees do. \n",
    "The class that most of the trees vote (that is the class most predicted by the trees) is the one suggested by the ensemble classifier."
   ]
  },
  {
   "cell_type": "markdown",
   "metadata": {},
   "source": [
    "## 7. Implement Random Forest"
   ]
  },
  {
   "cell_type": "markdown",
   "metadata": {},
   "source": [
    "Implement a Random Forest classifier. Can you improve to above accuracy? Look at the sklearn documentation. Play with the parameters of the ``RandomForestClassifier``. Especially the parameter ``n_estimators`` (the number of trees in the forest) is of interest."
   ]
  },
  {
   "cell_type": "code",
   "execution_count": 27,
   "metadata": {},
   "outputs": [
    {
     "data": {
      "text/plain": "0.8174904942965779"
     },
     "execution_count": 27,
     "metadata": {},
     "output_type": "execute_result"
    }
   ],
   "source": [
    "from sklearn.ensemble import RandomForestClassifier\n",
    "\n",
    "forest_clf = RandomForestClassifier(criterion='entropy', max_depth=2, min_samples_split=2, random_state = 42, n_estimators = 3000)\n",
    "forest_clf.fit(titanic_X,titanic_y)\n",
    "y_pred = forest_clf.predict(X_test_titanic)\n",
    "accuracy_score(y_test_titanic, y_pred)"
   ]
  },
  {
   "cell_type": "code",
   "execution_count": 27,
   "metadata": {},
   "outputs": [],
   "source": []
  }
 ],
 "metadata": {
  "kernelspec": {
   "display_name": "Python 3.9.7 ('base')",
   "language": "python",
   "name": "python3"
  },
  "language_info": {
   "codemirror_mode": {
    "name": "ipython",
    "version": 3
   },
   "file_extension": ".py",
   "mimetype": "text/x-python",
   "name": "python",
   "nbconvert_exporter": "python",
   "pygments_lexer": "ipython3",
   "version": "3.9.7"
  },
  "vscode": {
   "interpreter": {
    "hash": "7032b91a5d6bf6cd849b5f777b2ef2f37ae7c85457fcb5ad5262be0cbc8c8aac"
   }
  }
 },
 "nbformat": 4,
 "nbformat_minor": 1
}
