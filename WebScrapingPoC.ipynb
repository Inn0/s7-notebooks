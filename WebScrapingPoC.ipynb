{
 "cells": [
  {
   "cell_type": "markdown",
   "source": [
    "# Web scraping PoC\n",
    "This is a proof-of-concept application for the research done for the development of the Moodboard Generator project. This proof-of-concept aims to provide a way of scraping images from the internet using certain keywords. To achieve this goal, [this](https://pypi.org/project/Google-Images-Search/) resource was used."
   ],
   "metadata": {
    "collapsed": false
   }
  },
  {
   "cell_type": "code",
   "execution_count": 2,
   "metadata": {
    "collapsed": true
   },
   "outputs": [],
   "source": [
    "from google_images_search import GoogleImagesSearch\n",
    "\n",
    "# you can provide API key and CX using arguments,\n",
    "# or you can set environment variables: GCS_DEVELOPER_KEY, GCS_CX\n",
    "gis = GoogleImagesSearch(\"APIKEY\", \"CSE_ID\")\n",
    "\n",
    "_search_params = {\n",
    "    'q': 'dog, blue',\n",
    "    'num': 5\n",
    "}\n",
    "\n",
    "# this will search and download:\n",
    "gis.search(search_params=_search_params, path_to_dir='./images')"
   ]
  },
  {
   "cell_type": "markdown",
   "source": [
    "# Results\n",
    "The results can be found in the images subfolder. The first search term was `cats` and the second one was `dogs, blue`. As you can see the 5 most applicable images are downloaded from Google Search."
   ],
   "metadata": {
    "collapsed": false
   }
  }
 ],
 "metadata": {
  "kernelspec": {
   "display_name": "Python 3",
   "language": "python",
   "name": "python3"
  },
  "language_info": {
   "codemirror_mode": {
    "name": "ipython",
    "version": 2
   },
   "file_extension": ".py",
   "mimetype": "text/x-python",
   "name": "python",
   "nbconvert_exporter": "python",
   "pygments_lexer": "ipython2",
   "version": "2.7.6"
  }
 },
 "nbformat": 4,
 "nbformat_minor": 0
}
